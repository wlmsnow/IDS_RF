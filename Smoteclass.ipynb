{
 "cells": [
  {
   "cell_type": "markdown",
   "metadata": {},
   "source": [
    "# smote algorithm definition program"
   ]
  },
  {
   "cell_type": "code",
   "execution_count": 1,
   "metadata": {},
   "outputs": [],
   "source": [
    "import random\n",
    "from sklearn.neighbors import NearestNeighbors\n",
    "import numpy as np"
   ]
  },
  {
   "cell_type": "code",
   "execution_count": 2,
   "metadata": {},
   "outputs": [],
   "source": [
    "class Smote:\n",
    "    \"\"\"\n",
    "    SMOTE oversampling algorithm.\n",
    "    Parameters:\n",
    "    -----------\n",
    "    k: int\n",
    "        The number of neighbors selected.\n",
    "    sampling_rate: int\n",
    "        Sampling multiple, attention sampling_rate < k.\n",
    "    newindex: int\n",
    "        Index number of the generated new sample (synthetic sample).\n",
    "    \"\"\"\n",
    "\n",
    "    def __init__(self, sampling_rate= 1, k=8):\n",
    "        self.sampling_rate = sampling_rate\n",
    "        self.k = k\n",
    "        self.newindex = 0\n",
    "        print(self.sampling_rate,sampling_rate)\n",
    "\n",
    "    def fit(self, X, y):\n",
    "        n_samples, n_features = X.shape\n",
    "        # Initialize a matrix to store synthetic samples\n",
    "        self.synthetic = np.zeros((n_samples * self.sampling_rate, n_features+1))\n",
    "\n",
    "        # Find the k nearest neighbors of each sample in the positive sample set (data set X) in data set X\n",
    "        knn = NearestNeighbors(n_neighbors=self.k).fit(X)\n",
    "        for i in range(len(X)):\n",
    "            k_neighbors = knn.kneighbors(X[i].reshape(1, -1),\n",
    "                                         return_distance=False)[0]\n",
    "            # For each sample in the positive class set, generate it according to its k nearest neighbors\n",
    "            # sampling_rate new samples\n",
    "            self.synthetic_samples(X, i, k_neighbors,y)\n",
    "\n",
    "       \n",
    "        return   self.synthetic#np.concatenate((self.synthetic, X), axis=0)\n",
    "\n",
    "    # For each sample in the positive class set, generate new sampling_rate samples based on its k neighbors\n",
    "    def synthetic_samples(self, X, i, k_neighbors,y):\n",
    "        for j in range(self.sampling_rate):\n",
    "            # Randomly select a neighbor from k neighbors\n",
    "            neighbor = np.random.choice(k_neighbors)\n",
    "            # Calculate the difference between the sample X [i] and the nearest neighbor just selected\n",
    "            diff = X[neighbor] - X[i]\n",
    "            # Generate new data\n",
    "            self.synthetic[self.newindex,:-1] = X[i] + random.random() * diff\n",
    "            self.synthetic[self.newindex, -1] = y\n",
    "            self.newindex += 1\n"
   ]
  },
  {
   "cell_type": "code",
   "execution_count": null,
   "metadata": {},
   "outputs": [],
   "source": []
  }
 ],
 "metadata": {
  "kernelspec": {
   "display_name": "Python 3",
   "language": "python",
   "name": "python3"
  },
  "language_info": {
   "codemirror_mode": {
    "name": "ipython",
    "version": 3
   },
   "file_extension": ".py",
   "mimetype": "text/x-python",
   "name": "python",
   "nbconvert_exporter": "python",
   "pygments_lexer": "ipython3",
   "version": "3.6.8"
  }
 },
 "nbformat": 4,
 "nbformat_minor": 2
}
