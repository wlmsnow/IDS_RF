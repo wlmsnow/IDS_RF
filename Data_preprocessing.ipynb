{
 "cells": [
  {
   "cell_type": "markdown",
   "metadata": {},
   "source": [
    "# Calling the algorithm of the remote algorithm, each time the sample data is doubled"
   ]
  },
  {
   "cell_type": "code",
   "execution_count": 18,
   "metadata": {},
   "outputs": [],
   "source": [
    "import io, os, sys, types\n",
    "from IPython import get_ipython\n",
    "from Utils import NotebookFinder\n",
    "import pandas as pd\n",
    "from Smoteclass import Smote\n",
    "from config_fileRF import config"
   ]
  },
  {
   "cell_type": "code",
   "execution_count": 19,
   "metadata": {},
   "outputs": [],
   "source": [
    "sampling_rate = config[\"RF\"][\"sampling_rate\"]\n",
    "k_nei= config[\"RF\"][\"k_neighbors\"]"
   ]
  },
  {
   "cell_type": "code",
   "execution_count": 21,
   "metadata": {},
   "outputs": [],
   "source": [
    "def  procedata():\n",
    "    datasets = pd.read_csv(\"data/Dos_Slowhttptest_8.csv\")\n",
    "    features = datasets.iloc[:, :-1]\n",
    "    labels = datasets.iloc[:, -1]   \n",
    "    features = features.values\n",
    "    labels = labels.values\n",
    "    print(labels[1])\n",
    "    smote = Smote(sampling_rate=sampling_rate, k=k_nei)\n",
    "    newdata = smote.fit(X = features,y = labels[1])\n",
    "    data2 = pd.DataFrame(newdata)\n",
    "    data2.to_csv(\"data/attack_RF.csv\", index=False, mode='a+', header=False)\n"
   ]
  },
  {
   "cell_type": "code",
   "execution_count": null,
   "metadata": {},
   "outputs": [],
   "source": []
  }
 ],
 "metadata": {
  "kernelspec": {
   "display_name": "Python 3",
   "language": "python",
   "name": "python3"
  },
  "language_info": {
   "codemirror_mode": {
    "name": "ipython",
    "version": 3
   },
   "file_extension": ".py",
   "mimetype": "text/x-python",
   "name": "python",
   "nbconvert_exporter": "python",
   "pygments_lexer": "ipython3",
   "version": "3.6.8"
  }
 },
 "nbformat": 4,
 "nbformat_minor": 2
}
