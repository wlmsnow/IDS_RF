{
 "cells": [
  {
   "cell_type": "code",
   "execution_count": 3,
   "metadata": {},
   "outputs": [],
   "source": [
    "from sklearn.ensemble import RandomForestClassifier\n",
    "import csv\n",
    "from sklearn.model_selection import train_test_split\n",
    "from sklearn.metrics import accuracy_score\n",
    "from sklearn.metrics import confusion_matrix\n",
    "from sklearn.metrics import classification_report\n",
    "from sklearn.metrics import precision_score\n",
    "from sklearn.metrics import recall_score\n",
    "from sklearn.metrics import f1_score\n",
    "from sklearn.preprocessing import StandardScaler"
   ]
  },
  {
   "cell_type": "markdown",
   "metadata": {},
   "source": [
    "## Train and predict the data using a random forest algorithm"
   ]
  },
  {
   "cell_type": "code",
   "execution_count": 6,
   "metadata": {},
   "outputs": [],
   "source": [
    "def attack_RF(features_train,labels_train,features_test,labels_test):\n",
    "    # Training data\n",
    "    clf = RandomForestClassifier()\n",
    "    clf.fit(features_train,labels_train)\n",
    "    # Test Data\n",
    "    predict_results=clf.predict(features_test)\n",
    "    # Confusion matrix for test set\n",
    "    conf_mat = confusion_matrix(labels_test, predict_results)\n",
    "    # Output confusion matrix，Output confusion matrix, commented out because there is too much output\n",
    "    # print(conf_mat) \n",
    "    # report is a text report of the main classification indicators, \n",
    "    #showing the accuracy, recall, and F1 values, as well as micro, macro, and weighted averages, in each category.\n",
    "    report = classification_report(labels_test, predict_results)\n",
    "    # print(report)\n",
    "    # Output total accuracy\n",
    "    accuracy = accuracy_score(predict_results,labels_test)\n",
    "    # Output the precision value of each class\n",
    "    precision = precision_score(predict_results,labels_test,average= None)\n",
    "    # Output the recall value of each class\n",
    "    recall = recall_score(predict_results,labels_test,average= None)\n",
    "    # Output the f1 value of each class\n",
    "    f1 = f1_score(predict_results,labels_test,average= None)\n",
    "    # print(accuracy,precision,recall,f1)\n",
    "    # The strange thing is that the precision and recall values in the report file report\n",
    "    #are exactly the opposite of the values in precision_score and recall_score. \n",
    "    #After testing through a small program, I found that the values in report are correct, \n",
    "    #in line with accuracy and recall Definition, so in the return value I swap the value of the two classes.\n",
    "    return accuracy,recall,precision,f1"
   ]
  },
  {
   "cell_type": "code",
   "execution_count": null,
   "metadata": {},
   "outputs": [],
   "source": []
  }
 ],
 "metadata": {
  "kernelspec": {
   "display_name": "Python 3",
   "language": "python",
   "name": "python3"
  },
  "language_info": {
   "codemirror_mode": {
    "name": "ipython",
    "version": 3
   },
   "file_extension": ".py",
   "mimetype": "text/x-python",
   "name": "python",
   "nbconvert_exporter": "python",
   "pygments_lexer": "ipython3",
   "version": "3.6.8"
  }
 },
 "nbformat": 4,
 "nbformat_minor": 2
}
